{
 "cells": [
  {
   "cell_type": "code",
   "execution_count": 1,
   "id": "fb51ca94",
   "metadata": {},
   "outputs": [],
   "source": [
    "from sklearn.datasets import load_diabetes\n",
    "import numpy as np\n",
    "import matplotlib.pyplot as plt"
   ]
  },
  {
   "cell_type": "code",
   "execution_count": 2,
   "id": "5340c26e",
   "metadata": {},
   "outputs": [],
   "source": [
    "X,y = load_diabetes(return_X_y=True)"
   ]
  },
  {
   "cell_type": "code",
   "execution_count": 3,
   "id": "07df445b",
   "metadata": {},
   "outputs": [],
   "source": [
    "from sklearn.model_selection import train_test_split\n",
    "\n",
    "X_train,X_test,y_train,y_test = train_test_split(X,y,test_size=0.3,random_state=34)"
   ]
  },
  {
   "cell_type": "code",
   "execution_count": 7,
   "id": "4835ad94",
   "metadata": {},
   "outputs": [],
   "source": [
    "from sklearn.linear_model import SGDRegressor,Ridge\n",
    "\n",
    "gd = SGDRegressor(penalty='l2',max_iter=500,learning_rate='constant',eta0=0.1,alpha=0.01)\n",
    "gd.fit(X_train,y_train)\n",
    "gd_y_pred = gd.predict(X_test)"
   ]
  },
  {
   "cell_type": "code",
   "execution_count": 6,
   "id": "503cec90",
   "metadata": {},
   "outputs": [
    {
     "name": "stdout",
     "output_type": "stream",
     "text": [
      "coef :  [ 29.51644163 -14.01152612 147.18270139  95.42094689  33.01655048\n",
      "  21.06889035 -90.81267414  84.98941659 132.59594668  73.99461557]\n",
      "intercept :  [148.44724871]\n",
      "r2_score :  0.2425873809488842\n"
     ]
    }
   ],
   "source": [
    "from sklearn.metrics import r2_score\n",
    "print(\"coef : \",gd.coef_)\n",
    "print(\"intercept : \",gd.intercept_)\n",
    "print(\"r2_score : \",r2_score(y_test,gd_y_pred))"
   ]
  },
  {
   "cell_type": "code",
   "execution_count": 8,
   "id": "7095b0c7",
   "metadata": {},
   "outputs": [],
   "source": [
    "ri = Ridge(alpha=0.01,max_iter=500,solver='sparse_cg')\n",
    "ri.fit(X_train,y_train)\n",
    "ri_y_pred = ri.predict(X_test)"
   ]
  },
  {
   "cell_type": "code",
   "execution_count": 9,
   "id": "7c35130b",
   "metadata": {},
   "outputs": [
    {
     "name": "stdout",
     "output_type": "stream",
     "text": [
      "coef :  [ -30.80620053 -236.07038016  516.50070363  319.52227886 -257.41953175\n",
      "  113.2474741  -193.48222346   28.23081132  586.62135752   47.14724312]\n",
      "intercept :  154.44664122864987\n",
      "r2_score :  0.4023536247623024\n"
     ]
    }
   ],
   "source": [
    "print(\"coef : \",ri.coef_)\n",
    "print(\"intercept : \",ri.intercept_)\n",
    "print(\"r2_score : \",r2_score(y_test,ri_y_pred))"
   ]
  },
  {
   "cell_type": "code",
   "execution_count": 30,
   "id": "9a73bbbd",
   "metadata": {},
   "outputs": [],
   "source": [
    "class MeraRG:\n",
    "    \n",
    "    def __init__(self,learning_rate,epochs,alpha):\n",
    "        \n",
    "        self.coef_ = None\n",
    "        self.intercept_ = None\n",
    "        self.n = learning_rate\n",
    "        self.ep = epochs\n",
    "        self.alpha = alpha\n",
    "        \n",
    "    def fit(self,X_train,y_train):\n",
    "        \n",
    "        self.coef_ = np.ones(X_train.shape[1])\n",
    "        self.intercept_=0\n",
    "        w = np.insert(self.coef_,0,self.intercept_)  # intercept ko 0 position pr dalega\n",
    "        \n",
    "        X_train = np.insert(X_train,0,1,axis=1)\n",
    "        m = X_train.shape[0]\n",
    "        \n",
    "        for i in range(self.ep):\n",
    "            \n",
    "            w_derivative = (1/m) * ((X_train.T @ X_train @ w) - (X_train.T @ y_train) + (self.alpha * w))\n",
    "            w = w - self.n * w_derivative\n",
    "            \n",
    "        self.coef_ = w[1:]\n",
    "        self.intercept_ = w[0]\n",
    "        \n",
    "        print(\"coef : \",self.coef_)\n",
    "        print(\"intercept : \",self.intercept_)\n",
    "        \n",
    "    def predict(self,X_test):\n",
    "        \n",
    "        return (X_test @ self.coef_ ) + self.intercept_"
   ]
  },
  {
   "cell_type": "code",
   "execution_count": 63,
   "id": "829d09fe",
   "metadata": {},
   "outputs": [
    {
     "name": "stdout",
     "output_type": "stream",
     "text": [
      "coef :  [  -3.77875773 -197.65579127  483.74802726  290.17300063  -31.85304369\n",
      "  -87.39071747 -231.12761668  118.39703058  413.48714191  105.85054998]\n",
      "intercept :  154.79719690285057\n"
     ]
    }
   ],
   "source": [
    "me = MeraRG(0.99,1000,0.01)\n",
    "me.fit(X_train,y_train)\n",
    "me_y_pred = me.predict(X_test)\n"
   ]
  },
  {
   "cell_type": "code",
   "execution_count": 64,
   "id": "f9ff7e69",
   "metadata": {},
   "outputs": [
    {
     "name": "stdout",
     "output_type": "stream",
     "text": [
      "r2_score :  0.4017989720849293\n"
     ]
    }
   ],
   "source": [
    "print(\"r2_score : \",r2_score(y_test,me_y_pred))"
   ]
  },
  {
   "cell_type": "code",
   "execution_count": null,
   "id": "977c4f1c",
   "metadata": {},
   "outputs": [],
   "source": []
  }
 ],
 "metadata": {
  "kernelspec": {
   "display_name": "base",
   "language": "python",
   "name": "python3"
  },
  "language_info": {
   "codemirror_mode": {
    "name": "ipython",
    "version": 3
   },
   "file_extension": ".py",
   "mimetype": "text/x-python",
   "name": "python",
   "nbconvert_exporter": "python",
   "pygments_lexer": "ipython3",
   "version": "3.11.7"
  }
 },
 "nbformat": 4,
 "nbformat_minor": 5
}
