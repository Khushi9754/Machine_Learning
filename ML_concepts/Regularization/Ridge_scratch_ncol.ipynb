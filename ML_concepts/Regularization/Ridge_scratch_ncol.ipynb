{
 "cells": [
  {
   "cell_type": "code",
   "execution_count": 1,
   "id": "c4b69aae",
   "metadata": {},
   "outputs": [],
   "source": [
    "from sklearn.datasets import load_diabetes\n",
    "import numpy as np\n",
    "import matplotlib.pyplot as plt"
   ]
  },
  {
   "cell_type": "code",
   "execution_count": 2,
   "id": "1be23a1c",
   "metadata": {},
   "outputs": [],
   "source": [
    "X,y = load_diabetes(return_X_y=True)"
   ]
  },
  {
   "cell_type": "code",
   "execution_count": 3,
   "id": "30d72df1",
   "metadata": {},
   "outputs": [],
   "source": [
    "from sklearn.model_selection import train_test_split\n",
    "\n",
    "X_train,X_test,y_train,y_test = train_test_split(X,y,test_size=0.3,random_state=34)"
   ]
  },
  {
   "cell_type": "code",
   "execution_count": 11,
   "id": "bac89a6e",
   "metadata": {},
   "outputs": [],
   "source": [
    "from sklearn.linear_model import Ridge\n",
    "\n",
    "ri = Ridge(alpha=0.1)\n",
    "ri.fit(X_train,y_train)\n",
    "y_pred = ri.predict(X_test)"
   ]
  },
  {
   "cell_type": "code",
   "execution_count": 12,
   "id": "9cfcf354",
   "metadata": {},
   "outputs": [],
   "source": [
    "from sklearn.metrics import r2_score,root_mean_squared_error"
   ]
  },
  {
   "cell_type": "code",
   "execution_count": 13,
   "id": "3699c3d9",
   "metadata": {},
   "outputs": [
    {
     "name": "stdout",
     "output_type": "stream",
     "text": [
      "r2_score :  0.4005529908442712\n",
      " RMSE :  55.71510886497663\n"
     ]
    }
   ],
   "source": [
    "print(\"r2_score : \",r2_score(y_test,y_pred))\n",
    "print(\" RMSE : \",root_mean_squared_error(y_test,y_pred))"
   ]
  },
  {
   "cell_type": "code",
   "execution_count": 15,
   "id": "52587fe1",
   "metadata": {},
   "outputs": [
    {
     "name": "stdout",
     "output_type": "stream",
     "text": [
      "coef_ :  [ -13.05106347 -200.55494328  475.58149387  291.33750286  -48.67045505\n",
      "  -55.9217396  -229.60722307   82.69952831  441.23759842   73.38308706]\n",
      "intercept_ :  154.77593035489542\n"
     ]
    }
   ],
   "source": [
    "print(\"coef_ : \",ri.coef_)\n",
    "print(\"intercept_ : \",ri.intercept_)"
   ]
  },
  {
   "cell_type": "code",
   "execution_count": 35,
   "id": "7500f394",
   "metadata": {},
   "outputs": [],
   "source": [
    "class MeraRidge:\n",
    "    \n",
    "    def __init__(self,alpha=0.1):\n",
    "        \n",
    "        self.coef_ = None\n",
    "        self.intercept_ = None\n",
    "        self.alpha = alpha\n",
    "    \n",
    "    def fit(self,X_train,y_train):\n",
    "        \n",
    "        X_train = np.insert(X_train,0,1,axis=1)\n",
    "        \n",
    "        I = np.identity(X_train.shape[1])\n",
    "        \n",
    "        final = np.linalg.inv( X_train.T @ X_train + self.alpha * I )@ X_train.T @ y_train \n",
    "        \n",
    "        self.intercept_ = final[0]\n",
    "        self.coef_ = final[1:]\n",
    "        \n",
    "        print(\"intercept : \",self.intercept_)\n",
    "        print(\"coef_ : \",self.coef_)\n",
    "        \n",
    "    def predict(self,X_test):\n",
    "        \n",
    "         return np.dot(X_test,self.coef_) + self.intercept_"
   ]
  },
  {
   "cell_type": "code",
   "execution_count": 36,
   "id": "b67f03da",
   "metadata": {},
   "outputs": [
    {
     "name": "stdout",
     "output_type": "stream",
     "text": [
      "intercept :  154.72514185238552\n",
      "coef_ :  [ -13.14464777 -200.545071    475.59219088  291.38107893  -48.66470555\n",
      "  -55.96988659 -229.58008453   82.71315382  441.32154229   73.36537295]\n"
     ]
    }
   ],
   "source": [
    "ri = MeraRidge()\n",
    "ri.fit(X_train,y_train)\n",
    "y_pred1 = ri.predict(X_test)"
   ]
  },
  {
   "cell_type": "code",
   "execution_count": 37,
   "id": "d35d5202",
   "metadata": {},
   "outputs": [
    {
     "name": "stdout",
     "output_type": "stream",
     "text": [
      "r2_score :  0.4007259904275636\n",
      " RMSE :  55.70706863289766\n"
     ]
    }
   ],
   "source": [
    "print(\"r2_score : \",r2_score(y_test,y_pred1))\n",
    "print(\" RMSE : \",root_mean_squared_error(y_test,y_pred1))"
   ]
  },
  {
   "cell_type": "code",
   "execution_count": null,
   "id": "3354792a",
   "metadata": {},
   "outputs": [],
   "source": []
  }
 ],
 "metadata": {
  "kernelspec": {
   "display_name": "base",
   "language": "python",
   "name": "python3"
  },
  "language_info": {
   "codemirror_mode": {
    "name": "ipython",
    "version": 3
   },
   "file_extension": ".py",
   "mimetype": "text/x-python",
   "name": "python",
   "nbconvert_exporter": "python",
   "pygments_lexer": "ipython3",
   "version": "3.11.7"
  }
 },
 "nbformat": 4,
 "nbformat_minor": 5
}
