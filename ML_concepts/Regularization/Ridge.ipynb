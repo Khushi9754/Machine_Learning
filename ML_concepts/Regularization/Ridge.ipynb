{
 "cells": [
  {
   "cell_type": "code",
   "execution_count": 1,
   "id": "7cb7eefa",
   "metadata": {},
   "outputs": [],
   "source": [
    "import numpy as np\n",
    "import pandas as pd\n",
    "import matplotlib.pyplot as plt\n",
    "from sklearn.datasets import load_diabetes"
   ]
  },
  {
   "cell_type": "code",
   "execution_count": 2,
   "id": "60974a31",
   "metadata": {},
   "outputs": [],
   "source": [
    "X,y = load_diabetes(return_X_y=True)"
   ]
  },
  {
   "cell_type": "code",
   "execution_count": 4,
   "id": "a1ae940a",
   "metadata": {},
   "outputs": [
    {
     "data": {
      "text/plain": [
       "(442, 10)"
      ]
     },
     "execution_count": 4,
     "metadata": {},
     "output_type": "execute_result"
    }
   ],
   "source": [
    "X.shape"
   ]
  },
  {
   "cell_type": "code",
   "execution_count": 5,
   "id": "c1fa28de",
   "metadata": {},
   "outputs": [
    {
     "data": {
      "text/plain": [
       "(442,)"
      ]
     },
     "execution_count": 5,
     "metadata": {},
     "output_type": "execute_result"
    }
   ],
   "source": [
    "y.shape"
   ]
  },
  {
   "cell_type": "code",
   "execution_count": 6,
   "id": "dc7cccb8",
   "metadata": {},
   "outputs": [],
   "source": [
    "from sklearn.model_selection import train_test_split\n",
    "\n",
    "X_train,X_test,y_train,y_test = train_test_split(X,y,test_size=0.3,random_state=32)"
   ]
  },
  {
   "cell_type": "code",
   "execution_count": 7,
   "id": "6de74a74",
   "metadata": {},
   "outputs": [],
   "source": [
    "from sklearn.linear_model import LinearRegression\n",
    "\n",
    "li = LinearRegression()\n",
    "li.fit(X_train,y_train)\n",
    "y_pred = li.predict(X_test)"
   ]
  },
  {
   "cell_type": "code",
   "execution_count": 9,
   "id": "29660ec3",
   "metadata": {},
   "outputs": [
    {
     "name": "stdout",
     "output_type": "stream",
     "text": [
      " coef_ :  [  61.75308546 -292.95141754  521.53351181  332.32549392 -745.7108244\n",
      "  431.58383573   48.46218226  150.05611706  690.25162152   88.54033747]\n",
      "intercept_ :  153.844601970981\n"
     ]
    }
   ],
   "source": [
    "print(\" coef_ : \",li.coef_)\n",
    "print(\"intercept_ : \",li.intercept_)"
   ]
  },
  {
   "cell_type": "code",
   "execution_count": 8,
   "id": "70303a6a",
   "metadata": {},
   "outputs": [
    {
     "name": "stdout",
     "output_type": "stream",
     "text": [
      " r2_score :  0.4967096057691067\n",
      " RMSE :  52.300923716015994\n"
     ]
    }
   ],
   "source": [
    "from sklearn.metrics import r2_score,root_mean_squared_error\n",
    "\n",
    "print(\" r2_score : \",r2_score(y_test,y_pred))\n",
    "print(\" RMSE : \",root_mean_squared_error(y_test,y_pred))"
   ]
  },
  {
   "cell_type": "code",
   "execution_count": 69,
   "id": "8a44c865",
   "metadata": {},
   "outputs": [],
   "source": [
    "from sklearn.linear_model import Ridge\n",
    "\n",
    "ri = Ridge(alpha=1)\n",
    "ri.fit(X_train,y_train)\n",
    "ri_y_pred = ri.predict(X_test)\n"
   ]
  },
  {
   "cell_type": "code",
   "execution_count": 70,
   "id": "c2a675a9",
   "metadata": {},
   "outputs": [
    {
     "name": "stdout",
     "output_type": "stream",
     "text": [
      "coef_ :  [  55.71204712  -85.9320566   268.79835016  179.56380635   10.03655032\n",
      "  -19.56710443 -139.07652532  104.77612023  227.81834306  117.06479778]\n",
      "intercept :  153.6558976301036\n"
     ]
    }
   ],
   "source": [
    "print(\"coef_ : \",ri.coef_)\n",
    "print(\"intercept : \",ri.intercept_)"
   ]
  },
  {
   "cell_type": "code",
   "execution_count": 71,
   "id": "ce6a4668",
   "metadata": {},
   "outputs": [
    {
     "name": "stdout",
     "output_type": "stream",
     "text": [
      " r2_score :  0.4279403242463822\n",
      " RMSE :  55.75973566547657\n"
     ]
    }
   ],
   "source": [
    "print(\" r2_score : \",r2_score(y_test,ri_y_pred))\n",
    "print(\" RMSE : \",root_mean_squared_error(y_test,ri_y_pred))"
   ]
  },
  {
   "cell_type": "code",
   "execution_count": null,
   "id": "39c2fea7",
   "metadata": {},
   "outputs": [],
   "source": []
  }
 ],
 "metadata": {
  "kernelspec": {
   "display_name": "base",
   "language": "python",
   "name": "python3"
  },
  "language_info": {
   "codemirror_mode": {
    "name": "ipython",
    "version": 3
   },
   "file_extension": ".py",
   "mimetype": "text/x-python",
   "name": "python",
   "nbconvert_exporter": "python",
   "pygments_lexer": "ipython3",
   "version": "3.11.7"
  }
 },
 "nbformat": 4,
 "nbformat_minor": 5
}
