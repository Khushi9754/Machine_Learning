{
 "cells": [
  {
   "cell_type": "code",
   "execution_count": 29,
   "id": "efdf4c58",
   "metadata": {},
   "outputs": [],
   "source": [
    "from sklearn.datasets import load_diabetes\n",
    "\n",
    "import numpy as np\n",
    "from sklearn.linear_model import LinearRegression\n",
    "from sklearn.metrics import r2_score\n",
    "from sklearn.model_selection import train_test_split\n",
    "from sklearn.preprocessing import StandardScaler\n"
   ]
  },
  {
   "cell_type": "code",
   "execution_count": 2,
   "id": "04ee9ea9",
   "metadata": {},
   "outputs": [],
   "source": [
    "X,y = load_diabetes(return_X_y=True)"
   ]
  },
  {
   "cell_type": "code",
   "execution_count": 57,
   "id": "d0602530",
   "metadata": {},
   "outputs": [],
   "source": [
    "si_x = StandardScaler()\n",
    "si_y = StandardScaler()\n",
    "X = si_x.fit_transform(X)\n",
    "y = si_y.fit_transform(y.reshape(-1,1)).flatten()\n"
   ]
  },
  {
   "cell_type": "code",
   "execution_count": 58,
   "id": "80a7feae",
   "metadata": {},
   "outputs": [
    {
     "data": {
      "text/plain": [
       "(442, 10)"
      ]
     },
     "execution_count": 58,
     "metadata": {},
     "output_type": "execute_result"
    }
   ],
   "source": [
    "X.shape"
   ]
  },
  {
   "cell_type": "code",
   "execution_count": 64,
   "id": "3929b1b6",
   "metadata": {},
   "outputs": [],
   "source": [
    "li = LinearRegression()\n",
    "li.fit(X,y)\n",
    "\n",
    "coef_original = li.coef_ * si_y.scale_ / si_x.scale_\n",
    "intercept_original = si_y.mean_ + li.intercept_ * si_y.scale_ - np.sum(coef_original * si_x.mean_)\n"
   ]
  },
  {
   "cell_type": "code",
   "execution_count": 68,
   "id": "626c26df",
   "metadata": {},
   "outputs": [
    {
     "name": "stdout",
     "output_type": "stream",
     "text": [
      "intercepts :  [-0.00618293 -0.14813008  0.32110005  0.20036692 -0.48931352  0.29447365\n",
      "  0.06241272  0.10936897  0.46404908  0.04177187]\n",
      " coef_ :  [6.45528744e-17]\n"
     ]
    }
   ],
   "source": [
    "print(\"intercepts : \",coef_original)\n",
    "\n",
    "print(\" coef_ : \",intercept_original)"
   ]
  },
  {
   "cell_type": "code",
   "execution_count": null,
   "id": "46e10d2c",
   "metadata": {},
   "outputs": [],
   "source": [
    "class GDR:\n",
    "    \n",
    "    def __init__(self,learning_rate,epochs):\n",
    "        \n",
    "        self.coef_ = 1\n",
    "        self.intercept_ = 0\n",
    "        self.n = learning_rate\n",
    "        self.ep = epochs\n",
    "        \n",
    "    def fit(self,X,y):\n",
    "        \n",
    "        self.coef_ = np.ones(X.shape[1])\n",
    "        \n",
    "        for i in range(self.ep):\n",
    "            \n",
    "            \n",
    "            y_hat = self.intercept_ + np.dot(X,self.coef_ )\n",
    "            intercept_slope = (-2/X.shape[0]) * np.sum( y - y_hat )\n",
    "            \n",
    "            self.intercept_ = self.intercept_ - self.n *intercept_slope\n",
    "            \n",
    "            coef_slope = (-2/X.shape[0]) * np.dot(X.T,(y - y_hat))\n",
    "            \n",
    "            self.coef_ = self.coef_ - self.n * coef_slope\n",
    "            \n",
    "            self.coef_ = self.coef_ * si_y.scale_ / si_x.scale_\n",
    "            self.intercept_ = si_y.mean_ + self.intercept_ * si_y.scale_ - np.sum(self.coef_ * si_x.mean_)\n",
    "        \n",
    "        print(\"intercept_ : \",self.intercept_)\n",
    "        print(\"coef - \",self.coef_)\n",
    "            \n",
    "            #print(\"intercept_ : \",self.intercept_)\n",
    "            \n",
    "    def predict(self,X):\n",
    "        \n",
    "        return np.dot(X,self.coef_) + self.intercept_"
   ]
  },
  {
   "cell_type": "code",
   "execution_count": 1,
   "id": "57cac5ed",
   "metadata": {},
   "outputs": [
    {
     "ename": "NameError",
     "evalue": "name 'GDR' is not defined",
     "output_type": "error",
     "traceback": [
      "\u001b[1;31m---------------------------------------------------------------------------\u001b[0m",
      "\u001b[1;31mNameError\u001b[0m                                 Traceback (most recent call last)",
      "Cell \u001b[1;32mIn[1], line 1\u001b[0m\n\u001b[1;32m----> 1\u001b[0m lr \u001b[38;5;241m=\u001b[39m GDR(\u001b[38;5;241m0.1\u001b[39m,\u001b[38;5;241m24\u001b[39m)\n\u001b[0;32m      2\u001b[0m lr\u001b[38;5;241m.\u001b[39mfit(X,y)\n\u001b[0;32m      3\u001b[0m y_pred1 \u001b[38;5;241m=\u001b[39m lr\u001b[38;5;241m.\u001b[39mpredict(X)\n",
      "\u001b[1;31mNameError\u001b[0m: name 'GDR' is not defined"
     ]
    }
   ],
   "source": [
    "lr = GDR(0.1,24)\n",
    "lr.fit(X,y)\n",
    "y_pred1 = lr.predict(X)"
   ]
  },
  {
   "cell_type": "code",
   "execution_count": null,
   "id": "60aa1af5",
   "metadata": {},
   "outputs": [],
   "source": []
  }
 ],
 "metadata": {
  "kernelspec": {
   "display_name": "base",
   "language": "python",
   "name": "python3"
  },
  "language_info": {
   "codemirror_mode": {
    "name": "ipython",
    "version": 3
   },
   "file_extension": ".py",
   "mimetype": "text/x-python",
   "name": "python",
   "nbconvert_exporter": "python",
   "pygments_lexer": "ipython3",
   "version": "3.11.7"
  }
 },
 "nbformat": 4,
 "nbformat_minor": 5
}
