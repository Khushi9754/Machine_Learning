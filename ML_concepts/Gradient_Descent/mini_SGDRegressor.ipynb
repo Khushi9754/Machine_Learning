{
 "cells": [
  {
   "cell_type": "code",
   "execution_count": 4,
   "id": "fec063e9",
   "metadata": {},
   "outputs": [],
   "source": [
    "from sklearn.datasets import load_diabetes\n",
    "from sklearn.metrics import r2_score"
   ]
  },
  {
   "cell_type": "code",
   "execution_count": 5,
   "id": "ffc011ab",
   "metadata": {},
   "outputs": [],
   "source": [
    "X,y = load_diabetes(return_X_y=True)"
   ]
  },
  {
   "cell_type": "code",
   "execution_count": 6,
   "id": "9232047d",
   "metadata": {},
   "outputs": [
    {
     "name": "stdout",
     "output_type": "stream",
     "text": [
      " coef :  [ -10.0098663  -239.81564367  519.84592005  324.3846455  -792.17563855\n",
      "  476.73902101  101.04326794  177.06323767  751.27369956   67.62669218]\n",
      " intercept :  152.13348416289597\n",
      "r2_score :  0.5177484222203498\n"
     ]
    }
   ],
   "source": [
    "from sklearn.linear_model import LinearRegression\n",
    "\n",
    "li = LinearRegression()\n",
    "li.fit(X,y)\n",
    "y_pred = li.predict(X)\n",
    "print(\" coef : \",li.coef_)\n",
    "print(\" intercept : \",li.intercept_)\n",
    "\n",
    "print(\"r2_score : \",r2_score(y,y_pred))"
   ]
  },
  {
   "cell_type": "code",
   "execution_count": 10,
   "id": "38b25003",
   "metadata": {},
   "outputs": [],
   "source": [
    "from sklearn.linear_model import SGDRegressor\n",
    "import random"
   ]
  },
  {
   "cell_type": "code",
   "execution_count": 75,
   "id": "0419f3aa",
   "metadata": {},
   "outputs": [],
   "source": [
    "mg = SGDRegressor(learning_rate='constant',eta0=0.2)"
   ]
  },
  {
   "cell_type": "code",
   "execution_count": 76,
   "id": "e974f9f5",
   "metadata": {},
   "outputs": [],
   "source": [
    "batch_size = 10\n",
    "\n",
    "for i in range(100):\n",
    "    idx = random.sample(range(X.shape[0]),batch_size)\n",
    "    mg.partial_fit(X[idx],y[idx])"
   ]
  },
  {
   "cell_type": "code",
   "execution_count": 77,
   "id": "9b5e832e",
   "metadata": {},
   "outputs": [
    {
     "name": "stdout",
     "output_type": "stream",
     "text": [
      " coef :  [  26.81256725  -23.6653147   222.80687995  161.60722139   41.09630142\n",
      "   21.02035055 -149.53220018  130.63572613  225.56740511  122.26846769]\n",
      " intercept :  [149.76185023]\n"
     ]
    }
   ],
   "source": [
    "print(\" coef : \",mg.coef_)\n",
    "print(\" intercept : \",mg.intercept_)"
   ]
  },
  {
   "cell_type": "code",
   "execution_count": 78,
   "id": "e26aeb05",
   "metadata": {},
   "outputs": [],
   "source": [
    "y_pred1 = mg.predict(X)"
   ]
  },
  {
   "cell_type": "code",
   "execution_count": 79,
   "id": "fc7960e8",
   "metadata": {},
   "outputs": [
    {
     "name": "stdout",
     "output_type": "stream",
     "text": [
      "0.4072850573792086\n"
     ]
    }
   ],
   "source": [
    "print(r2_score(y,y_pred1))"
   ]
  },
  {
   "cell_type": "code",
   "execution_count": null,
   "id": "1376f56f",
   "metadata": {},
   "outputs": [],
   "source": []
  }
 ],
 "metadata": {
  "kernelspec": {
   "display_name": "base",
   "language": "python",
   "name": "python3"
  },
  "language_info": {
   "codemirror_mode": {
    "name": "ipython",
    "version": 3
   },
   "file_extension": ".py",
   "mimetype": "text/x-python",
   "name": "python",
   "nbconvert_exporter": "python",
   "pygments_lexer": "ipython3",
   "version": "3.11.7"
  }
 },
 "nbformat": 4,
 "nbformat_minor": 5
}
