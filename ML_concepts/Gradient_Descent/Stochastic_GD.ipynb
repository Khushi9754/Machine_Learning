{
 "cells": [
  {
   "cell_type": "code",
   "execution_count": 1,
   "id": "24aad584",
   "metadata": {},
   "outputs": [],
   "source": [
    "from sklearn.datasets import load_diabetes\n",
    "\n",
    "import numpy as np\n",
    "from sklearn.linear_model import LinearRegression\n",
    "from sklearn.metrics import r2_score\n",
    "from sklearn.model_selection import train_test_split"
   ]
  },
  {
   "cell_type": "code",
   "execution_count": 2,
   "id": "baab8828",
   "metadata": {},
   "outputs": [],
   "source": [
    "X,y = load_diabetes(return_X_y=True)"
   ]
  },
  {
   "cell_type": "code",
   "execution_count": 6,
   "id": "83522adf",
   "metadata": {},
   "outputs": [],
   "source": [
    "X_train,X_test,y_train,y_test = train_test_split(X,y,test_size=0.2,random_state=42)"
   ]
  },
  {
   "cell_type": "code",
   "execution_count": 37,
   "id": "286e4f1a",
   "metadata": {},
   "outputs": [
    {
     "name": "stdout",
     "output_type": "stream",
     "text": [
      "r2_score:  0.4526027629719196\n"
     ]
    }
   ],
   "source": [
    "li = LinearRegression()\n",
    "li.fit(X_train,y_train)\n",
    "\n",
    "y_pred = li.predict(X_test)\n",
    "\n",
    "print(\"r2_score: \",r2_score(y_test,y_pred))"
   ]
  },
  {
   "cell_type": "code",
   "execution_count": 19,
   "id": "fccd37d4",
   "metadata": {},
   "outputs": [
    {
     "name": "stdout",
     "output_type": "stream",
     "text": [
      "coef_ :  [  37.90402135 -241.96436231  542.42875852  347.70384391 -931.48884588\n",
      "  518.06227698  163.41998299  275.31790158  736.1988589    48.67065743]\n",
      " intercept_ :  151.34560453985995\n"
     ]
    }
   ],
   "source": [
    "print(\"coef_ : \",li.coef_)\n",
    "\n",
    "print(\" intercept_ : \",li.intercept_)"
   ]
  },
  {
   "cell_type": "code",
   "execution_count": 42,
   "id": "fe05e970",
   "metadata": {},
   "outputs": [],
   "source": [
    "class SGD:\n",
    "    \n",
    "    def __init__(self,learning_rate,epochs):\n",
    "        \n",
    "        self.intercept_ = 0\n",
    "        self.coef_ = 1\n",
    "        self.n = learning_rate\n",
    "        self.ep = epochs\n",
    "        \n",
    "    def fit(self,X_train,y_train):\n",
    "        \n",
    "        self.coef_ = np.ones(X_train.shape[1])\n",
    "        for i in range(self.ep):\n",
    "            for j in range(X_train.shape[0]):\n",
    "        \n",
    "                idx = np.random.randint(0,X_train.shape[0])\n",
    "                \n",
    "                y_hat = self.intercept_ + np.dot(self.coef_,X_train[idx])\n",
    "                dev_intercept_ = -2 *(y_train[idx] - y_hat)\n",
    "                self.intercept_ = self.intercept_ - self.n * dev_intercept_\n",
    "                \n",
    "                dev_coef_ = -2 * np.dot((y_train[idx] - y_hat),X_train[idx])\n",
    "                self.coef_ = self.coef_ - self.n * dev_coef_\n",
    "                \n",
    "        print(\" coef_ : \",self.coef_)\n",
    "        print(\" intercept_ : \",self.intercept_)\n",
    "            \n",
    "    def predict(self,X_test):\n",
    "        \n",
    "        y_predict = np.dot(X_test,self.coef_) + self.intercept_\n",
    "        return y_predict    "
   ]
  },
  {
   "cell_type": "code",
   "execution_count": null,
   "id": "b581173b",
   "metadata": {},
   "outputs": [
    {
     "name": "stdout",
     "output_type": "stream",
     "text": [
      " coef_ :  [  65.28886693  -80.70772351  354.13095983  242.08132068    7.17865993\n",
      "  -31.86229081 -176.93973614  148.6568127   291.23311984  140.03281011]\n",
      " intercept_ :  147.52437656027823\n"
     ]
    }
   ],
   "source": [
    "lr = SGD(0.01,47)\n",
    "lr.fit(X_train,y_train)\n",
    "y_pred1 = lr.predict(X_test)\n"
   ]
  },
  {
   "cell_type": "code",
   "execution_count": 52,
   "id": "bd10a22e",
   "metadata": {},
   "outputs": [
    {
     "name": "stdout",
     "output_type": "stream",
     "text": [
      "r2_score:  0.4402868155389086\n"
     ]
    }
   ],
   "source": [
    "print(\"r2_score: \",r2_score(y_test,y_pred1))"
   ]
  },
  {
   "cell_type": "code",
   "execution_count": null,
   "id": "1921376e",
   "metadata": {},
   "outputs": [],
   "source": []
  }
 ],
 "metadata": {
  "kernelspec": {
   "display_name": "base",
   "language": "python",
   "name": "python3"
  },
  "language_info": {
   "codemirror_mode": {
    "name": "ipython",
    "version": 3
   },
   "file_extension": ".py",
   "mimetype": "text/x-python",
   "name": "python",
   "nbconvert_exporter": "python",
   "pygments_lexer": "ipython3",
   "version": "3.11.7"
  }
 },
 "nbformat": 4,
 "nbformat_minor": 5
}
