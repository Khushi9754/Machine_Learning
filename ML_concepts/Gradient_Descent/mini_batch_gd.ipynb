{
 "cells": [
  {
   "cell_type": "code",
   "execution_count": 20,
   "id": "d23d81f4",
   "metadata": {},
   "outputs": [],
   "source": [
    "from sklearn.datasets import load_diabetes\n",
    "\n",
    "import numpy as np\n",
    "from sklearn.metrics import r2_score"
   ]
  },
  {
   "cell_type": "code",
   "execution_count": 2,
   "id": "fb0ae8bc",
   "metadata": {},
   "outputs": [],
   "source": [
    "X,y = load_diabetes(return_X_y=True)"
   ]
  },
  {
   "cell_type": "code",
   "execution_count": 21,
   "id": "200b145d",
   "metadata": {},
   "outputs": [
    {
     "name": "stdout",
     "output_type": "stream",
     "text": [
      " coef :  [ -10.0098663  -239.81564367  519.84592005  324.3846455  -792.17563855\n",
      "  476.73902101  101.04326794  177.06323767  751.27369956   67.62669218]\n",
      " intercept :  152.13348416289597\n",
      "r2_score :  0.5177484222203498\n"
     ]
    }
   ],
   "source": [
    "from sklearn.linear_model import LinearRegression\n",
    "\n",
    "li = LinearRegression()\n",
    "li.fit(X,y)\n",
    "y_pred = li.predict(X)\n",
    "print(\" coef : \",li.coef_)\n",
    "print(\" intercept : \",li.intercept_)\n",
    "\n",
    "print(\"r2_score : \",r2_score(y,y_pred))"
   ]
  },
  {
   "cell_type": "code",
   "execution_count": 17,
   "id": "73cca51d",
   "metadata": {},
   "outputs": [],
   "source": [
    "import random\n",
    "class MBGR:\n",
    "    \n",
    "    def __init__(self,batch_size,learning_rate,epochs):\n",
    "        \n",
    "        self.coef_ = 1\n",
    "        self.intercept_ = 0\n",
    "        self.n = learning_rate\n",
    "        self.ep = epochs\n",
    "        self.bs = batch_size\n",
    "        \n",
    "    def fit(self,X,y):\n",
    "        \n",
    "        self.coef_ = np.ones(X.shape[1])\n",
    "        \n",
    "        for i in range(self.ep):\n",
    "            for j in range(int(X.shape[0]/self.bs)):\n",
    "            \n",
    "                idx = random.sample(range(X.shape[0]),self.bs)\n",
    "                \n",
    "                y_hat = self.intercept_ + np.dot(X[idx],self.coef_ )\n",
    "                intercept_slope = (-2/X.shape[0]) * np.sum( y[idx] - y_hat )\n",
    "                \n",
    "                self.intercept_ = self.intercept_ - self.n *intercept_slope\n",
    "                \n",
    "                coef_slope = (-2/X.shape[0]) * np.dot(X[idx].T,(y[idx] - y_hat))\n",
    "                self.coef_ = self.coef_ - self.n * coef_slope\n",
    "                \n",
    "        print(\"intercept_ : \",self.intercept_)\n",
    "        print(\"coef - \",self.coef_)\n",
    "            \n",
    "            #print(\"intercept_ : \",self.intercept_)\n",
    "            \n",
    "    def predict(self,X):\n",
    "        \n",
    "        return np.dot(X,self.coef_) + self.intercept_"
   ]
  },
  {
   "cell_type": "code",
   "execution_count": 47,
   "id": "8661af6d",
   "metadata": {},
   "outputs": [],
   "source": [
    "mb = MBGR(batch_size=10,learning_rate=0.9,epochs=500)"
   ]
  },
  {
   "cell_type": "code",
   "execution_count": 48,
   "id": "15094ed5",
   "metadata": {},
   "outputs": [
    {
     "name": "stdout",
     "output_type": "stream",
     "text": [
      "intercept_ :  152.8133139905397\n",
      "coef -  [   5.22026669 -186.68672059  476.76617899  300.96060889  -37.07645255\n",
      "  -98.20000858 -206.22154232  129.36582129  396.01486565  121.72123977]\n"
     ]
    }
   ],
   "source": [
    "mb.fit(X,y)\n",
    "y_pred1 = mb.predict(X)"
   ]
  },
  {
   "cell_type": "code",
   "execution_count": 49,
   "id": "dadba63a",
   "metadata": {},
   "outputs": [
    {
     "name": "stdout",
     "output_type": "stream",
     "text": [
      "r2_score :  0.5095775732223256\n"
     ]
    }
   ],
   "source": [
    "print(\"r2_score : \",r2_score(y,y_pred1))"
   ]
  },
  {
   "cell_type": "code",
   "execution_count": null,
   "id": "ecaca3d5",
   "metadata": {},
   "outputs": [],
   "source": []
  }
 ],
 "metadata": {
  "kernelspec": {
   "display_name": "base",
   "language": "python",
   "name": "python3"
  },
  "language_info": {
   "codemirror_mode": {
    "name": "ipython",
    "version": 3
   },
   "file_extension": ".py",
   "mimetype": "text/x-python",
   "name": "python",
   "nbconvert_exporter": "python",
   "pygments_lexer": "ipython3",
   "version": "3.11.7"
  }
 },
 "nbformat": 4,
 "nbformat_minor": 5
}
