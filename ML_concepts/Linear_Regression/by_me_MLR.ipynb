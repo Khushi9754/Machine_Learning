{
 "cells": [
  {
   "cell_type": "code",
   "execution_count": 1,
   "id": "7f8e13b4",
   "metadata": {},
   "outputs": [],
   "source": [
    "import numpy as np\n",
    "from sklearn.datasets import load_diabetes"
   ]
  },
  {
   "cell_type": "code",
   "execution_count": 2,
   "id": "9c4fe450",
   "metadata": {},
   "outputs": [],
   "source": [
    "X,Y = load_diabetes(return_X_y=True)"
   ]
  },
  {
   "cell_type": "code",
   "execution_count": 5,
   "id": "76eff82c",
   "metadata": {},
   "outputs": [
    {
     "data": {
      "text/plain": [
       "(442, 10)"
      ]
     },
     "execution_count": 5,
     "metadata": {},
     "output_type": "execute_result"
    }
   ],
   "source": [
    "X.shape"
   ]
  },
  {
   "cell_type": "code",
   "execution_count": 6,
   "id": "6cc3c0c6",
   "metadata": {},
   "outputs": [
    {
     "data": {
      "text/plain": [
       "(442,)"
      ]
     },
     "execution_count": 6,
     "metadata": {},
     "output_type": "execute_result"
    }
   ],
   "source": [
    "Y.shape"
   ]
  },
  {
   "cell_type": "code",
   "execution_count": 7,
   "id": "ca58af0d",
   "metadata": {},
   "outputs": [],
   "source": [
    "from sklearn.model_selection import train_test_split\n",
    "from sklearn.linear_model import LinearRegression"
   ]
  },
  {
   "cell_type": "code",
   "execution_count": 8,
   "id": "76d8d936",
   "metadata": {},
   "outputs": [],
   "source": [
    "X_train,X_test,y_train,y_test = train_test_split(X,Y,test_size=0.2,random_state=32)"
   ]
  },
  {
   "cell_type": "code",
   "execution_count": 9,
   "id": "49a44212",
   "metadata": {},
   "outputs": [
    {
     "data": {
      "text/plain": [
       "(353, 10)"
      ]
     },
     "execution_count": 9,
     "metadata": {},
     "output_type": "execute_result"
    }
   ],
   "source": [
    "X_train.shape"
   ]
  },
  {
   "cell_type": "code",
   "execution_count": 10,
   "id": "422619c7",
   "metadata": {},
   "outputs": [],
   "source": [
    "li = LinearRegression()\n",
    "li = li.fit(X_train,y_train)\n",
    "y_pred = li.predict(X_test)"
   ]
  },
  {
   "cell_type": "code",
   "execution_count": null,
   "id": "41bb23b3",
   "metadata": {},
   "outputs": [],
   "source": [
    "from sklearn.metrics import r2_score"
   ]
  },
  {
   "cell_type": "code",
   "execution_count": 12,
   "id": "6e8ea723",
   "metadata": {},
   "outputs": [
    {
     "name": "stdout",
     "output_type": "stream",
     "text": [
      "r2 :  0.452233879635457\n"
     ]
    }
   ],
   "source": [
    "print(\"r2 : \",r2_score(y_test,y_pred))"
   ]
  },
  {
   "cell_type": "code",
   "execution_count": 13,
   "id": "bd80c1c9",
   "metadata": {},
   "outputs": [
    {
     "data": {
      "text/plain": [
       "array([  32.50000078, -274.2083569 ,  501.52744069,  368.7931961 ,\n",
       "       -822.31120988,  504.23867319,  101.57697155,  158.16545687,\n",
       "        744.91541712,   78.40553632])"
      ]
     },
     "execution_count": 13,
     "metadata": {},
     "output_type": "execute_result"
    }
   ],
   "source": [
    "li.coef_"
   ]
  },
  {
   "cell_type": "code",
   "execution_count": 14,
   "id": "3a346755",
   "metadata": {},
   "outputs": [
    {
     "data": {
      "text/plain": [
       "154.31230345901605"
      ]
     },
     "execution_count": 14,
     "metadata": {},
     "output_type": "execute_result"
    }
   ],
   "source": [
    "li.intercept_"
   ]
  },
  {
   "cell_type": "markdown",
   "id": "c5019010",
   "metadata": {},
   "source": [
    "BY ME"
   ]
  },
  {
   "cell_type": "code",
   "execution_count": null,
   "id": "f59a4d10",
   "metadata": {},
   "outputs": [],
   "source": [
    "class MyMLR:\n",
    "    \n",
    "    def __init__(self):\n",
    "        \n",
    "        self.coef = 0\n",
    "        self.intercept = 0\n",
    "        \n",
    "    def fit(self,X_train,Y_train):\n",
    "        X_train = np.insert(X_train,0,1,axis=1)\n",
    "        \n",
    "        #formula = (tranpose(X).X)inverse . (transpose X) . Y\n",
    "        B = np.linalg.inv( np.dot(X_train.T,X_train ) ).dot(X_train.T).dot(y_train)\n",
    "        print(\"all coef : \",B)\n",
    "        \n",
    "        self.intercept = B[0]\n",
    "        self.coef = B[1:]\n",
    "        \n",
    "    \n",
    "    def predict(self,X_test):\n",
    "        \n",
    "        y = np.dot(X_test,self.coef) + self.intercept\n",
    "        \n",
    "        return y"
   ]
  },
  {
   "cell_type": "code",
   "execution_count": 61,
   "id": "b5c6c1cb",
   "metadata": {},
   "outputs": [
    {
     "data": {
      "text/plain": [
       "(353, 10)"
      ]
     },
     "execution_count": 61,
     "metadata": {},
     "output_type": "execute_result"
    }
   ],
   "source": [
    "X_train.shape"
   ]
  },
  {
   "cell_type": "code",
   "execution_count": 62,
   "id": "d737bace",
   "metadata": {},
   "outputs": [
    {
     "data": {
      "text/plain": [
       "(353, 11)"
      ]
     },
     "execution_count": 62,
     "metadata": {},
     "output_type": "execute_result"
    }
   ],
   "source": [
    "np.insert(X_train,0,1,axis=1).shape"
   ]
  },
  {
   "cell_type": "code",
   "execution_count": 65,
   "id": "07370e08",
   "metadata": {},
   "outputs": [
    {
     "name": "stdout",
     "output_type": "stream",
     "text": [
      "all coef :  [ 154.31230346   32.50000078 -274.2083569   501.52744069  368.7931961\n",
      " -822.31120988  504.23867319  101.57697155  158.16545687  744.91541712\n",
      "   78.40553632]\n"
     ]
    },
    {
     "data": {
      "text/plain": [
       "<__main__.MyMLR at 0x15357d8f090>"
      ]
     },
     "execution_count": 65,
     "metadata": {},
     "output_type": "execute_result"
    }
   ],
   "source": [
    "lir = MyMLR()\n",
    "lir.fit(X_train,y_train)"
   ]
  },
  {
   "cell_type": "code",
   "execution_count": 68,
   "id": "5f94462d",
   "metadata": {},
   "outputs": [],
   "source": [
    "result = lir.predict(X_test)"
   ]
  },
  {
   "cell_type": "code",
   "execution_count": 69,
   "id": "4b6c91b9",
   "metadata": {},
   "outputs": [
    {
     "name": "stdout",
     "output_type": "stream",
     "text": [
      "r2 :  0.452233879635457\n"
     ]
    }
   ],
   "source": [
    "from sklearn.metrics import r2_score\n",
    "\n",
    "print(\"r2 : \",r2_score(y_test,result))"
   ]
  }
 ],
 "metadata": {
  "kernelspec": {
   "display_name": "base",
   "language": "python",
   "name": "python3"
  },
  "language_info": {
   "codemirror_mode": {
    "name": "ipython",
    "version": 3
   },
   "file_extension": ".py",
   "mimetype": "text/x-python",
   "name": "python",
   "nbconvert_exporter": "python",
   "pygments_lexer": "ipython3",
   "version": "3.11.7"
  }
 },
 "nbformat": 4,
 "nbformat_minor": 5
}
