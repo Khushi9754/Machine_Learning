{
 "cells": [
  {
   "cell_type": "code",
   "execution_count": 3,
   "id": "7ed6b7a5-4585-4369-9af8-d1b5cfbeb6f3",
   "metadata": {},
   "outputs": [],
   "source": [
    "import pandas as pd\n",
    "import numpy as np"
   ]
  },
  {
   "cell_type": "code",
   "execution_count": 4,
   "id": "82077387-bc35-459a-bc2c-d1019fa7d199",
   "metadata": {},
   "outputs": [],
   "source": [
    "from sklearn.model_selection import train_test_split\n",
    "from sklearn.impute import SimpleImputer,KNNImputer\n",
    "from sklearn.linear_model import LogisticRegression\n",
    "from sklearn.metrics import accuracy_score"
   ]
  },
  {
   "cell_type": "code",
   "execution_count": 5,
   "id": "cec9fc69-f3e9-4299-a789-abb5625d4fe2",
   "metadata": {},
   "outputs": [],
   "source": [
    "df = pd.read_csv(r\"C:\\Users\\khushi pawar\\Downloads\\titanic_toy.csv\")"
   ]
  },
  {
   "cell_type": "code",
   "execution_count": 6,
   "id": "ae971052-0795-485e-9a9a-949825ca161c",
   "metadata": {},
   "outputs": [
    {
     "data": {
      "text/html": [
       "<div>\n",
       "<style scoped>\n",
       "    .dataframe tbody tr th:only-of-type {\n",
       "        vertical-align: middle;\n",
       "    }\n",
       "\n",
       "    .dataframe tbody tr th {\n",
       "        vertical-align: top;\n",
       "    }\n",
       "\n",
       "    .dataframe thead th {\n",
       "        text-align: right;\n",
       "    }\n",
       "</style>\n",
       "<table border=\"1\" class=\"dataframe\">\n",
       "  <thead>\n",
       "    <tr style=\"text-align: right;\">\n",
       "      <th></th>\n",
       "      <th>Age</th>\n",
       "      <th>Fare</th>\n",
       "      <th>Family</th>\n",
       "      <th>Survived</th>\n",
       "    </tr>\n",
       "  </thead>\n",
       "  <tbody>\n",
       "    <tr>\n",
       "      <th>0</th>\n",
       "      <td>22.0</td>\n",
       "      <td>7.2500</td>\n",
       "      <td>1</td>\n",
       "      <td>0</td>\n",
       "    </tr>\n",
       "    <tr>\n",
       "      <th>1</th>\n",
       "      <td>38.0</td>\n",
       "      <td>71.2833</td>\n",
       "      <td>1</td>\n",
       "      <td>1</td>\n",
       "    </tr>\n",
       "    <tr>\n",
       "      <th>2</th>\n",
       "      <td>26.0</td>\n",
       "      <td>7.9250</td>\n",
       "      <td>0</td>\n",
       "      <td>1</td>\n",
       "    </tr>\n",
       "    <tr>\n",
       "      <th>3</th>\n",
       "      <td>35.0</td>\n",
       "      <td>53.1000</td>\n",
       "      <td>1</td>\n",
       "      <td>1</td>\n",
       "    </tr>\n",
       "    <tr>\n",
       "      <th>4</th>\n",
       "      <td>35.0</td>\n",
       "      <td>8.0500</td>\n",
       "      <td>0</td>\n",
       "      <td>0</td>\n",
       "    </tr>\n",
       "  </tbody>\n",
       "</table>\n",
       "</div>"
      ],
      "text/plain": [
       "    Age     Fare  Family  Survived\n",
       "0  22.0   7.2500       1         0\n",
       "1  38.0  71.2833       1         1\n",
       "2  26.0   7.9250       0         1\n",
       "3  35.0  53.1000       1         1\n",
       "4  35.0   8.0500       0         0"
      ]
     },
     "execution_count": 6,
     "metadata": {},
     "output_type": "execute_result"
    }
   ],
   "source": [
    "df.head()"
   ]
  },
  {
   "cell_type": "code",
   "execution_count": 7,
   "id": "f7b9c1fe-c9a2-40f1-9216-1411ac58d5fd",
   "metadata": {},
   "outputs": [
    {
     "data": {
      "text/plain": [
       "(891, 4)"
      ]
     },
     "execution_count": 7,
     "metadata": {},
     "output_type": "execute_result"
    }
   ],
   "source": [
    "df.shape"
   ]
  },
  {
   "cell_type": "code",
   "execution_count": 8,
   "id": "331eebdb-3b05-4d45-8144-fccf5efaa040",
   "metadata": {},
   "outputs": [],
   "source": [
    "X = df.drop(columns=['Survived'])\n",
    "Y = df['Survived']"
   ]
  },
  {
   "cell_type": "code",
   "execution_count": 9,
   "id": "5c1b0a90-655c-47d2-995c-18b5821f0e41",
   "metadata": {},
   "outputs": [],
   "source": [
    "X_train,X_test,y_train,y_test = train_test_split(X,Y,test_size=0.2,random_state=42)"
   ]
  },
  {
   "cell_type": "code",
   "execution_count": 10,
   "id": "59320998-1f88-4248-824c-54426a923f1d",
   "metadata": {},
   "outputs": [
    {
     "data": {
      "text/plain": [
       "(712, 3)"
      ]
     },
     "execution_count": 10,
     "metadata": {},
     "output_type": "execute_result"
    }
   ],
   "source": [
    "X_train.shape"
   ]
  },
  {
   "cell_type": "code",
   "execution_count": 11,
   "id": "d46db6e7-b734-4a0d-8016-74e8f2c35d0d",
   "metadata": {},
   "outputs": [],
   "source": [
    "knn=KNNImputer(n_neighbors=5)\n",
    "\n",
    "X_train_trf = knn.fit_transform(X_train)\n",
    "X_test_trf = knn.transform(X_test)"
   ]
  },
  {
   "cell_type": "code",
   "execution_count": 12,
   "id": "ce8e4f88-6654-40c2-a435-16b18b9a70cc",
   "metadata": {},
   "outputs": [
    {
     "data": {
      "text/plain": [
       "0.664804469273743"
      ]
     },
     "execution_count": 12,
     "metadata": {},
     "output_type": "execute_result"
    }
   ],
   "source": [
    "clf = LogisticRegression()\n",
    "\n",
    "clf.fit(X_train_trf,y_train)\n",
    "\n",
    "y_pred = clf.predict(X_test_trf)\n",
    "\n",
    "accuracy_score(y_test,y_pred)"
   ]
  },
  {
   "cell_type": "code",
   "execution_count": 13,
   "id": "fcb51074-d485-4be2-83d7-a06bac27c5c0",
   "metadata": {},
   "outputs": [],
   "source": [
    "knn=KNNImputer(n_neighbors=5,weights='distance')\n",
    "\n",
    "X_train_trf = knn.fit_transform(X_train)\n",
    "X_test_trf = knn.transform(X_test)"
   ]
  },
  {
   "cell_type": "code",
   "execution_count": 14,
   "id": "8d365f7c-c802-4b73-9ba3-479e03cf00db",
   "metadata": {},
   "outputs": [
    {
     "data": {
      "text/plain": [
       "0.664804469273743"
      ]
     },
     "execution_count": 14,
     "metadata": {},
     "output_type": "execute_result"
    }
   ],
   "source": [
    "clf = LogisticRegression()\n",
    "\n",
    "clf.fit(X_train_trf,y_train)\n",
    "\n",
    "y_pred = clf.predict(X_test_trf)\n",
    "\n",
    "accuracy_score(y_test,y_pred)"
   ]
  },
  {
   "cell_type": "code",
   "execution_count": 15,
   "id": "c203fc38-8c20-4f1d-ab8f-7519676ff5f4",
   "metadata": {},
   "outputs": [],
   "source": [
    "from sklearn.metrics import mean_squared_error,root_mean_squared_error\n"
   ]
  },
  {
   "cell_type": "code",
   "execution_count": 18,
   "id": "ae6971ae-1603-44c0-b05c-2003f128ee91",
   "metadata": {},
   "outputs": [
    {
     "name": "stdout",
     "output_type": "stream",
     "text": [
      "n_neighbors=1, MSE=0.3463687150837989\n",
      "n_neighbors=1, RMSE=0.5885309805641491\n",
      "n_neighbors=2, MSE=0.3407821229050279\n",
      "n_neighbors=2, RMSE=0.5837654690927067\n",
      "n_neighbors=3, MSE=0.3463687150837989\n",
      "n_neighbors=3, RMSE=0.5885309805641491\n",
      "n_neighbors=4, MSE=0.33519553072625696\n",
      "n_neighbors=4, RMSE=0.5789607333198487\n",
      "n_neighbors=5, MSE=0.33519553072625696\n",
      "n_neighbors=5, RMSE=0.5789607333198487\n",
      "n_neighbors=6, MSE=0.33519553072625696\n",
      "n_neighbors=6, RMSE=0.5789607333198487\n",
      "n_neighbors=7, MSE=0.33519553072625696\n",
      "n_neighbors=7, RMSE=0.5789607333198487\n",
      "n_neighbors=8, MSE=0.33519553072625696\n",
      "n_neighbors=8, RMSE=0.5789607333198487\n",
      "n_neighbors=9, MSE=0.33519553072625696\n",
      "n_neighbors=9, RMSE=0.5789607333198487\n",
      "n_neighbors=10, MSE=0.33519553072625696\n",
      "n_neighbors=10, RMSE=0.5789607333198487\n"
     ]
    }
   ],
   "source": [
    "for i in range(1,11):\n",
    "    knn=KNNImputer(n_neighbors=i)\n",
    "\n",
    "    X_train_trf = knn.fit_transform(X_train)\n",
    "    X_test_trf = knn.transform(X_test)\n",
    "\n",
    "    clf = LogisticRegression()\n",
    "\n",
    "    clf.fit(X_train_trf,y_train)\n",
    "\n",
    "    y_pred = clf.predict(X_test_trf)\n",
    "\n",
    "    mse = mean_squared_error(y_test, y_pred)\n",
    "    rmse = root_mean_squared_error(y_test,y_pred)\n",
    "    print(f\"n_neighbors={i}, MSE={mse}\")\n",
    "    print(f\"n_neighbors={i}, RMSE={rmse}\")\n"
   ]
  },
  {
   "cell_type": "markdown",
   "id": "5c92a673-f771-4876-a554-1630ab7b9287",
   "metadata": {},
   "source": [
    "**jitna kaam MSE utna jyada acha n_neighbour**\n",
    "**              ,,yha 4,5,6,7,8,9,10 ache n_neighbours hai**"
   ]
  },
  {
   "cell_type": "code",
   "execution_count": 45,
   "id": "63e2ac43-f233-4924-91b0-81bbe7d5e775",
   "metadata": {},
   "outputs": [
    {
     "name": "stdout",
     "output_type": "stream",
     "text": [
      "n_neighbors=1, MSE=0.3463687150837989\n",
      "n_neighbors=2, MSE=0.3407821229050279\n",
      "n_neighbors=3, MSE=0.3463687150837989\n",
      "n_neighbors=4, MSE=0.329608938547486\n",
      "n_neighbors=5, MSE=0.33519553072625696\n",
      "n_neighbors=6, MSE=0.33519553072625696\n",
      "n_neighbors=7, MSE=0.33519553072625696\n",
      "n_neighbors=8, MSE=0.33519553072625696\n",
      "n_neighbors=9, MSE=0.33519553072625696\n",
      "n_neighbors=10, MSE=0.329608938547486\n",
      "n_neighbors=11, MSE=0.3463687150837989\n",
      "n_neighbors=12, MSE=0.3407821229050279\n",
      "n_neighbors=13, MSE=0.3463687150837989\n",
      "n_neighbors=14, MSE=0.3463687150837989\n",
      "n_neighbors=15, MSE=0.3463687150837989\n"
     ]
    }
   ],
   "source": [
    "for i in range(1,16):\n",
    "    knn=KNNImputer(n_neighbors=i,weights='distance')\n",
    "\n",
    "    X_train_trf = knn.fit_transform(X_train)\n",
    "    X_test_trf = knn.transform(X_test)\n",
    "\n",
    "    clf = LogisticRegression()\n",
    "\n",
    "    clf.fit(X_train_trf,y_train)\n",
    "\n",
    "    y_pred = clf.predict(X_test_trf)\n",
    "\n",
    "    mse = mean_squared_error(y_test, y_pred)\n",
    "    print(f\"n_neighbors={i}, MSE={mse}\")\n"
   ]
  },
  {
   "cell_type": "code",
   "execution_count": 55,
   "id": "0b0a1754-480f-423f-8676-05a1fae80368",
   "metadata": {},
   "outputs": [],
   "source": [
    "si=SimpleImputer(strategy='constant',fill_value=9999)\n",
    "X_train_si = si.fit_transform(X_train)\n",
    "X_test_si = si.transform(X_test)"
   ]
  },
  {
   "cell_type": "code",
   "execution_count": 56,
   "id": "31bb5f48-9705-433f-ba5b-d574f75e1675",
   "metadata": {},
   "outputs": [
    {
     "data": {
      "text/plain": [
       "0.5865921787709497"
      ]
     },
     "execution_count": 56,
     "metadata": {},
     "output_type": "execute_result"
    }
   ],
   "source": [
    "clf = LogisticRegression()\n",
    "\n",
    "clf.fit(X_train_si,y_train)\n",
    "\n",
    "y_pred = clf.predict(X_test_si)\n",
    "\n",
    "accuracy_score(y_test,y_pred)"
   ]
  }
 ],
 "metadata": {
  "kernelspec": {
   "display_name": "base",
   "language": "python",
   "name": "python3"
  },
  "language_info": {
   "codemirror_mode": {
    "name": "ipython",
    "version": 3
   },
   "file_extension": ".py",
   "mimetype": "text/x-python",
   "name": "python",
   "nbconvert_exporter": "python",
   "pygments_lexer": "ipython3",
   "version": "3.11.7"
  }
 },
 "nbformat": 4,
 "nbformat_minor": 5
}
